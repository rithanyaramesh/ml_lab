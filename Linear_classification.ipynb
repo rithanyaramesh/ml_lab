{
  "nbformat": 4,
  "nbformat_minor": 0,
  "metadata": {
    "colab": {
      "provenance": []
    },
    "kernelspec": {
      "name": "python3",
      "display_name": "Python 3"
    },
    "language_info": {
      "name": "python"
    }
  },
  "cells": [
    {
      "cell_type": "markdown",
      "source": [
        "### **Importing Libraries**"
      ],
      "metadata": {
        "id": "S_c8eZpOqbjb"
      }
    },
    {
      "cell_type": "code",
      "execution_count": null,
      "metadata": {
        "id": "bMWk9EyQlLtE"
      },
      "outputs": [],
      "source": [
        "import numpy as np\n",
        "import matplotlib.pyplot as plt\n",
        "import pandas as pd\n",
        "import scipy\n",
        "import warnings\n",
        "import seaborn as sns\n",
        "from sklearn.model_selection import train_test_split, GridSearchCV, cross_val_score\n",
        "from sklearn.linear_model import LogisticRegression\n",
        "from sklearn.metrics import confusion_matrix, accuracy_score, classification_report, roc_curve, roc_auc_score\n",
        "from sklearn.preprocessing import LabelEncoder, StandardScaler\n",
        "from sklearn.impute import SimpleImputer\n",
        "from sklearn.naive_bayes import GaussianNB\n",
        "from sklearn.exceptions import ConvergenceWarning\n",
        "from imblearn.over_sampling import RandomOverSampler"
      ]
    },
    {
      "cell_type": "markdown",
      "source": [
        "### **Data Preprocessing**"
      ],
      "metadata": {
        "id": "kvi7LOxiqxDV"
      }
    },
    {
      "cell_type": "markdown",
      "source": [
        "**Reading the dataset**"
      ],
      "metadata": {
        "id": "jMcRKNJ3q2Uu"
      }
    },
    {
      "cell_type": "code",
      "source": [
        "dataset = pd.read_csv('weatherAUS.csv')\n",
        "dataset.head(5)"
      ],
      "metadata": {
        "colab": {
          "base_uri": "https://localhost:8080/",
          "height": 342
        },
        "id": "mR2DPBLoqpWT",
        "outputId": "e4017b29-9996-4077-b22f-e2a792b07f5f"
      },
      "execution_count": null,
      "outputs": [
        {
          "output_type": "execute_result",
          "data": {
            "text/plain": [
              "         Date Location  MinTemp  MaxTemp  Rainfall  Evaporation  Sunshine  \\\n",
              "0  2008-12-01   Albury     13.4     22.9       0.6          NaN       NaN   \n",
              "1  2008-12-02   Albury      7.4     25.1       0.0          NaN       NaN   \n",
              "2  2008-12-03   Albury     12.9     25.7       0.0          NaN       NaN   \n",
              "3  2008-12-04   Albury      9.2     28.0       0.0          NaN       NaN   \n",
              "4  2008-12-05   Albury     17.5     32.3       1.0          NaN       NaN   \n",
              "\n",
              "  WindGustDir  WindGustSpeed WindDir9am  ... Humidity9am  Humidity3pm  \\\n",
              "0           W           44.0          W  ...        71.0         22.0   \n",
              "1         WNW           44.0        NNW  ...        44.0         25.0   \n",
              "2         WSW           46.0          W  ...        38.0         30.0   \n",
              "3          NE           24.0         SE  ...        45.0         16.0   \n",
              "4           W           41.0        ENE  ...        82.0         33.0   \n",
              "\n",
              "   Pressure9am  Pressure3pm  Cloud9am  Cloud3pm  Temp9am  Temp3pm  RainToday  \\\n",
              "0       1007.7       1007.1       8.0       NaN     16.9     21.8         No   \n",
              "1       1010.6       1007.8       NaN       NaN     17.2     24.3         No   \n",
              "2       1007.6       1008.7       NaN       2.0     21.0     23.2         No   \n",
              "3       1017.6       1012.8       NaN       NaN     18.1     26.5         No   \n",
              "4       1010.8       1006.0       7.0       8.0     17.8     29.7         No   \n",
              "\n",
              "   RainTomorrow  \n",
              "0            No  \n",
              "1            No  \n",
              "2            No  \n",
              "3            No  \n",
              "4            No  \n",
              "\n",
              "[5 rows x 23 columns]"
            ],
            "text/html": [
              "\n",
              "  <div id=\"df-370f04ce-c6fe-4c24-af23-d6c32eca0732\" class=\"colab-df-container\">\n",
              "    <div>\n",
              "<style scoped>\n",
              "    .dataframe tbody tr th:only-of-type {\n",
              "        vertical-align: middle;\n",
              "    }\n",
              "\n",
              "    .dataframe tbody tr th {\n",
              "        vertical-align: top;\n",
              "    }\n",
              "\n",
              "    .dataframe thead th {\n",
              "        text-align: right;\n",
              "    }\n",
              "</style>\n",
              "<table border=\"1\" class=\"dataframe\">\n",
              "  <thead>\n",
              "    <tr style=\"text-align: right;\">\n",
              "      <th></th>\n",
              "      <th>Date</th>\n",
              "      <th>Location</th>\n",
              "      <th>MinTemp</th>\n",
              "      <th>MaxTemp</th>\n",
              "      <th>Rainfall</th>\n",
              "      <th>Evaporation</th>\n",
              "      <th>Sunshine</th>\n",
              "      <th>WindGustDir</th>\n",
              "      <th>WindGustSpeed</th>\n",
              "      <th>WindDir9am</th>\n",
              "      <th>...</th>\n",
              "      <th>Humidity9am</th>\n",
              "      <th>Humidity3pm</th>\n",
              "      <th>Pressure9am</th>\n",
              "      <th>Pressure3pm</th>\n",
              "      <th>Cloud9am</th>\n",
              "      <th>Cloud3pm</th>\n",
              "      <th>Temp9am</th>\n",
              "      <th>Temp3pm</th>\n",
              "      <th>RainToday</th>\n",
              "      <th>RainTomorrow</th>\n",
              "    </tr>\n",
              "  </thead>\n",
              "  <tbody>\n",
              "    <tr>\n",
              "      <th>0</th>\n",
              "      <td>2008-12-01</td>\n",
              "      <td>Albury</td>\n",
              "      <td>13.4</td>\n",
              "      <td>22.9</td>\n",
              "      <td>0.6</td>\n",
              "      <td>NaN</td>\n",
              "      <td>NaN</td>\n",
              "      <td>W</td>\n",
              "      <td>44.0</td>\n",
              "      <td>W</td>\n",
              "      <td>...</td>\n",
              "      <td>71.0</td>\n",
              "      <td>22.0</td>\n",
              "      <td>1007.7</td>\n",
              "      <td>1007.1</td>\n",
              "      <td>8.0</td>\n",
              "      <td>NaN</td>\n",
              "      <td>16.9</td>\n",
              "      <td>21.8</td>\n",
              "      <td>No</td>\n",
              "      <td>No</td>\n",
              "    </tr>\n",
              "    <tr>\n",
              "      <th>1</th>\n",
              "      <td>2008-12-02</td>\n",
              "      <td>Albury</td>\n",
              "      <td>7.4</td>\n",
              "      <td>25.1</td>\n",
              "      <td>0.0</td>\n",
              "      <td>NaN</td>\n",
              "      <td>NaN</td>\n",
              "      <td>WNW</td>\n",
              "      <td>44.0</td>\n",
              "      <td>NNW</td>\n",
              "      <td>...</td>\n",
              "      <td>44.0</td>\n",
              "      <td>25.0</td>\n",
              "      <td>1010.6</td>\n",
              "      <td>1007.8</td>\n",
              "      <td>NaN</td>\n",
              "      <td>NaN</td>\n",
              "      <td>17.2</td>\n",
              "      <td>24.3</td>\n",
              "      <td>No</td>\n",
              "      <td>No</td>\n",
              "    </tr>\n",
              "    <tr>\n",
              "      <th>2</th>\n",
              "      <td>2008-12-03</td>\n",
              "      <td>Albury</td>\n",
              "      <td>12.9</td>\n",
              "      <td>25.7</td>\n",
              "      <td>0.0</td>\n",
              "      <td>NaN</td>\n",
              "      <td>NaN</td>\n",
              "      <td>WSW</td>\n",
              "      <td>46.0</td>\n",
              "      <td>W</td>\n",
              "      <td>...</td>\n",
              "      <td>38.0</td>\n",
              "      <td>30.0</td>\n",
              "      <td>1007.6</td>\n",
              "      <td>1008.7</td>\n",
              "      <td>NaN</td>\n",
              "      <td>2.0</td>\n",
              "      <td>21.0</td>\n",
              "      <td>23.2</td>\n",
              "      <td>No</td>\n",
              "      <td>No</td>\n",
              "    </tr>\n",
              "    <tr>\n",
              "      <th>3</th>\n",
              "      <td>2008-12-04</td>\n",
              "      <td>Albury</td>\n",
              "      <td>9.2</td>\n",
              "      <td>28.0</td>\n",
              "      <td>0.0</td>\n",
              "      <td>NaN</td>\n",
              "      <td>NaN</td>\n",
              "      <td>NE</td>\n",
              "      <td>24.0</td>\n",
              "      <td>SE</td>\n",
              "      <td>...</td>\n",
              "      <td>45.0</td>\n",
              "      <td>16.0</td>\n",
              "      <td>1017.6</td>\n",
              "      <td>1012.8</td>\n",
              "      <td>NaN</td>\n",
              "      <td>NaN</td>\n",
              "      <td>18.1</td>\n",
              "      <td>26.5</td>\n",
              "      <td>No</td>\n",
              "      <td>No</td>\n",
              "    </tr>\n",
              "    <tr>\n",
              "      <th>4</th>\n",
              "      <td>2008-12-05</td>\n",
              "      <td>Albury</td>\n",
              "      <td>17.5</td>\n",
              "      <td>32.3</td>\n",
              "      <td>1.0</td>\n",
              "      <td>NaN</td>\n",
              "      <td>NaN</td>\n",
              "      <td>W</td>\n",
              "      <td>41.0</td>\n",
              "      <td>ENE</td>\n",
              "      <td>...</td>\n",
              "      <td>82.0</td>\n",
              "      <td>33.0</td>\n",
              "      <td>1010.8</td>\n",
              "      <td>1006.0</td>\n",
              "      <td>7.0</td>\n",
              "      <td>8.0</td>\n",
              "      <td>17.8</td>\n",
              "      <td>29.7</td>\n",
              "      <td>No</td>\n",
              "      <td>No</td>\n",
              "    </tr>\n",
              "  </tbody>\n",
              "</table>\n",
              "<p>5 rows × 23 columns</p>\n",
              "</div>\n",
              "    <div class=\"colab-df-buttons\">\n",
              "\n",
              "  <div class=\"colab-df-container\">\n",
              "    <button class=\"colab-df-convert\" onclick=\"convertToInteractive('df-370f04ce-c6fe-4c24-af23-d6c32eca0732')\"\n",
              "            title=\"Convert this dataframe to an interactive table.\"\n",
              "            style=\"display:none;\">\n",
              "\n",
              "  <svg xmlns=\"http://www.w3.org/2000/svg\" height=\"24px\" viewBox=\"0 -960 960 960\">\n",
              "    <path d=\"M120-120v-720h720v720H120Zm60-500h600v-160H180v160Zm220 220h160v-160H400v160Zm0 220h160v-160H400v160ZM180-400h160v-160H180v160Zm440 0h160v-160H620v160ZM180-180h160v-160H180v160Zm440 0h160v-160H620v160Z\"/>\n",
              "  </svg>\n",
              "    </button>\n",
              "\n",
              "  <style>\n",
              "    .colab-df-container {\n",
              "      display:flex;\n",
              "      gap: 12px;\n",
              "    }\n",
              "\n",
              "    .colab-df-convert {\n",
              "      background-color: #E8F0FE;\n",
              "      border: none;\n",
              "      border-radius: 50%;\n",
              "      cursor: pointer;\n",
              "      display: none;\n",
              "      fill: #1967D2;\n",
              "      height: 32px;\n",
              "      padding: 0 0 0 0;\n",
              "      width: 32px;\n",
              "    }\n",
              "\n",
              "    .colab-df-convert:hover {\n",
              "      background-color: #E2EBFA;\n",
              "      box-shadow: 0px 1px 2px rgba(60, 64, 67, 0.3), 0px 1px 3px 1px rgba(60, 64, 67, 0.15);\n",
              "      fill: #174EA6;\n",
              "    }\n",
              "\n",
              "    .colab-df-buttons div {\n",
              "      margin-bottom: 4px;\n",
              "    }\n",
              "\n",
              "    [theme=dark] .colab-df-convert {\n",
              "      background-color: #3B4455;\n",
              "      fill: #D2E3FC;\n",
              "    }\n",
              "\n",
              "    [theme=dark] .colab-df-convert:hover {\n",
              "      background-color: #434B5C;\n",
              "      box-shadow: 0px 1px 3px 1px rgba(0, 0, 0, 0.15);\n",
              "      filter: drop-shadow(0px 1px 2px rgba(0, 0, 0, 0.3));\n",
              "      fill: #FFFFFF;\n",
              "    }\n",
              "  </style>\n",
              "\n",
              "    <script>\n",
              "      const buttonEl =\n",
              "        document.querySelector('#df-370f04ce-c6fe-4c24-af23-d6c32eca0732 button.colab-df-convert');\n",
              "      buttonEl.style.display =\n",
              "        google.colab.kernel.accessAllowed ? 'block' : 'none';\n",
              "\n",
              "      async function convertToInteractive(key) {\n",
              "        const element = document.querySelector('#df-370f04ce-c6fe-4c24-af23-d6c32eca0732');\n",
              "        const dataTable =\n",
              "          await google.colab.kernel.invokeFunction('convertToInteractive',\n",
              "                                                    [key], {});\n",
              "        if (!dataTable) return;\n",
              "\n",
              "        const docLinkHtml = 'Like what you see? Visit the ' +\n",
              "          '<a target=\"_blank\" href=https://colab.research.google.com/notebooks/data_table.ipynb>data table notebook</a>'\n",
              "          + ' to learn more about interactive tables.';\n",
              "        element.innerHTML = '';\n",
              "        dataTable['output_type'] = 'display_data';\n",
              "        await google.colab.output.renderOutput(dataTable, element);\n",
              "        const docLink = document.createElement('div');\n",
              "        docLink.innerHTML = docLinkHtml;\n",
              "        element.appendChild(docLink);\n",
              "      }\n",
              "    </script>\n",
              "  </div>\n",
              "\n",
              "\n",
              "<div id=\"df-6effcbb0-bd75-4024-acb7-278e2ab9bbf0\">\n",
              "  <button class=\"colab-df-quickchart\" onclick=\"quickchart('df-6effcbb0-bd75-4024-acb7-278e2ab9bbf0')\"\n",
              "            title=\"Suggest charts\"\n",
              "            style=\"display:none;\">\n",
              "\n",
              "<svg xmlns=\"http://www.w3.org/2000/svg\" height=\"24px\"viewBox=\"0 0 24 24\"\n",
              "     width=\"24px\">\n",
              "    <g>\n",
              "        <path d=\"M19 3H5c-1.1 0-2 .9-2 2v14c0 1.1.9 2 2 2h14c1.1 0 2-.9 2-2V5c0-1.1-.9-2-2-2zM9 17H7v-7h2v7zm4 0h-2V7h2v10zm4 0h-2v-4h2v4z\"/>\n",
              "    </g>\n",
              "</svg>\n",
              "  </button>\n",
              "\n",
              "<style>\n",
              "  .colab-df-quickchart {\n",
              "      --bg-color: #E8F0FE;\n",
              "      --fill-color: #1967D2;\n",
              "      --hover-bg-color: #E2EBFA;\n",
              "      --hover-fill-color: #174EA6;\n",
              "      --disabled-fill-color: #AAA;\n",
              "      --disabled-bg-color: #DDD;\n",
              "  }\n",
              "\n",
              "  [theme=dark] .colab-df-quickchart {\n",
              "      --bg-color: #3B4455;\n",
              "      --fill-color: #D2E3FC;\n",
              "      --hover-bg-color: #434B5C;\n",
              "      --hover-fill-color: #FFFFFF;\n",
              "      --disabled-bg-color: #3B4455;\n",
              "      --disabled-fill-color: #666;\n",
              "  }\n",
              "\n",
              "  .colab-df-quickchart {\n",
              "    background-color: var(--bg-color);\n",
              "    border: none;\n",
              "    border-radius: 50%;\n",
              "    cursor: pointer;\n",
              "    display: none;\n",
              "    fill: var(--fill-color);\n",
              "    height: 32px;\n",
              "    padding: 0;\n",
              "    width: 32px;\n",
              "  }\n",
              "\n",
              "  .colab-df-quickchart:hover {\n",
              "    background-color: var(--hover-bg-color);\n",
              "    box-shadow: 0 1px 2px rgba(60, 64, 67, 0.3), 0 1px 3px 1px rgba(60, 64, 67, 0.15);\n",
              "    fill: var(--button-hover-fill-color);\n",
              "  }\n",
              "\n",
              "  .colab-df-quickchart-complete:disabled,\n",
              "  .colab-df-quickchart-complete:disabled:hover {\n",
              "    background-color: var(--disabled-bg-color);\n",
              "    fill: var(--disabled-fill-color);\n",
              "    box-shadow: none;\n",
              "  }\n",
              "\n",
              "  .colab-df-spinner {\n",
              "    border: 2px solid var(--fill-color);\n",
              "    border-color: transparent;\n",
              "    border-bottom-color: var(--fill-color);\n",
              "    animation:\n",
              "      spin 1s steps(1) infinite;\n",
              "  }\n",
              "\n",
              "  @keyframes spin {\n",
              "    0% {\n",
              "      border-color: transparent;\n",
              "      border-bottom-color: var(--fill-color);\n",
              "      border-left-color: var(--fill-color);\n",
              "    }\n",
              "    20% {\n",
              "      border-color: transparent;\n",
              "      border-left-color: var(--fill-color);\n",
              "      border-top-color: var(--fill-color);\n",
              "    }\n",
              "    30% {\n",
              "      border-color: transparent;\n",
              "      border-left-color: var(--fill-color);\n",
              "      border-top-color: var(--fill-color);\n",
              "      border-right-color: var(--fill-color);\n",
              "    }\n",
              "    40% {\n",
              "      border-color: transparent;\n",
              "      border-right-color: var(--fill-color);\n",
              "      border-top-color: var(--fill-color);\n",
              "    }\n",
              "    60% {\n",
              "      border-color: transparent;\n",
              "      border-right-color: var(--fill-color);\n",
              "    }\n",
              "    80% {\n",
              "      border-color: transparent;\n",
              "      border-right-color: var(--fill-color);\n",
              "      border-bottom-color: var(--fill-color);\n",
              "    }\n",
              "    90% {\n",
              "      border-color: transparent;\n",
              "      border-bottom-color: var(--fill-color);\n",
              "    }\n",
              "  }\n",
              "</style>\n",
              "\n",
              "  <script>\n",
              "    async function quickchart(key) {\n",
              "      const quickchartButtonEl =\n",
              "        document.querySelector('#' + key + ' button');\n",
              "      quickchartButtonEl.disabled = true;  // To prevent multiple clicks.\n",
              "      quickchartButtonEl.classList.add('colab-df-spinner');\n",
              "      try {\n",
              "        const charts = await google.colab.kernel.invokeFunction(\n",
              "            'suggestCharts', [key], {});\n",
              "      } catch (error) {\n",
              "        console.error('Error during call to suggestCharts:', error);\n",
              "      }\n",
              "      quickchartButtonEl.classList.remove('colab-df-spinner');\n",
              "      quickchartButtonEl.classList.add('colab-df-quickchart-complete');\n",
              "    }\n",
              "    (() => {\n",
              "      let quickchartButtonEl =\n",
              "        document.querySelector('#df-6effcbb0-bd75-4024-acb7-278e2ab9bbf0 button');\n",
              "      quickchartButtonEl.style.display =\n",
              "        google.colab.kernel.accessAllowed ? 'block' : 'none';\n",
              "    })();\n",
              "  </script>\n",
              "</div>\n",
              "\n",
              "    </div>\n",
              "  </div>\n"
            ],
            "application/vnd.google.colaboratory.intrinsic+json": {
              "type": "dataframe",
              "variable_name": "dataset"
            }
          },
          "metadata": {},
          "execution_count": 97
        }
      ]
    },
    {
      "cell_type": "markdown",
      "source": [
        "**Dropping 'Date' column**\n",
        "\n",
        "1. Date does not contribute much for classification"
      ],
      "metadata": {
        "id": "-pzKHM90rX_u"
      }
    },
    {
      "cell_type": "code",
      "source": [
        "dataset = dataset.drop(columns = ['Date'])"
      ],
      "metadata": {
        "id": "wNJNiGEuq6wh"
      },
      "execution_count": null,
      "outputs": []
    },
    {
      "cell_type": "markdown",
      "source": [
        "**Separating Numerical and Categorical features.**"
      ],
      "metadata": {
        "id": "40AivQuzrlZQ"
      }
    },
    {
      "cell_type": "code",
      "source": [
        "categorical_features = dataset.select_dtypes(include = ['object']).columns.tolist()\n",
        "numerical_features = dataset.select_dtypes(include = ['float64']).columns.tolist()\n",
        "\n",
        "print(\"Numerical Features\\n\\n\", numerical_features, \"\\n\")\n",
        "print(\"Categorical Features\\n\\n\", categorical_features, \"\\n\")"
      ],
      "metadata": {
        "colab": {
          "base_uri": "https://localhost:8080/"
        },
        "id": "eZlcTlLSrh4M",
        "outputId": "eb009131-0e34-4e76-efc0-ce1372f58c29"
      },
      "execution_count": null,
      "outputs": [
        {
          "output_type": "stream",
          "name": "stdout",
          "text": [
            "Numerical Features\n",
            "\n",
            " ['MinTemp', 'MaxTemp', 'Rainfall', 'Evaporation', 'Sunshine', 'WindGustSpeed', 'WindSpeed9am', 'WindSpeed3pm', 'Humidity9am', 'Humidity3pm', 'Pressure9am', 'Pressure3pm', 'Cloud9am', 'Cloud3pm', 'Temp9am', 'Temp3pm'] \n",
            "\n",
            "Categorical Features\n",
            "\n",
            " ['Location', 'WindGustDir', 'WindDir9am', 'WindDir3pm', 'RainToday', 'RainTomorrow'] \n",
            "\n"
          ]
        }
      ]
    },
    {
      "cell_type": "markdown",
      "source": [
        "**Handling Null values**\n",
        "\n",
        "1. Dropping the rows containing NaN values in Categorical columns.\n",
        "2. Imputing the Numerical columns containing NaN with 'mean' strategy."
      ],
      "metadata": {
        "id": "Q_pSjcIrsZMf"
      }
    },
    {
      "cell_type": "code",
      "source": [
        "print(\"Percentage of NaN before handling Null values\\n\\n\",round(dataset.isna().mean() * 100, 2), \"\\n\")\n",
        "\n",
        "dataset.dropna(axis=0, subset=categorical_features, inplace=True)\n",
        "\n",
        "dtst = dataset.iloc[:,:].values\n",
        "imputer = SimpleImputer(missing_values=np.nan, strategy='mean')\n",
        "imputer.fit(dtst[:, 1:3])\n",
        "dtst[:, 1:3] = imputer.transform(dtst[:, 1:3])\n",
        "imputer.fit(dtst[:, 4:6])\n",
        "dtst[:, 4:6] = imputer.transform(dtst[:, 4:6])\n",
        "imputer.fit(dtst[:, 12:20])\n",
        "dtst[:, 12:20] = imputer.transform(dtst[:, 12:20])"
      ],
      "metadata": {
        "colab": {
          "base_uri": "https://localhost:8080/"
        },
        "id": "HPhats_2sCyE",
        "outputId": "47233a9b-0cdc-433b-b227-5f51f450a41c"
      },
      "execution_count": null,
      "outputs": [
        {
          "output_type": "stream",
          "name": "stdout",
          "text": [
            "Percentage of NaN before handling Null values\n",
            "\n",
            " Location          0.00\n",
            "MinTemp           1.02\n",
            "MaxTemp           0.87\n",
            "Rainfall          2.24\n",
            "Evaporation      43.17\n",
            "Sunshine         48.01\n",
            "WindGustDir       7.10\n",
            "WindGustSpeed     7.06\n",
            "WindDir9am        7.26\n",
            "WindDir3pm        2.91\n",
            "WindSpeed9am      1.21\n",
            "WindSpeed3pm      2.11\n",
            "Humidity9am       1.82\n",
            "Humidity3pm       3.10\n",
            "Pressure9am      10.36\n",
            "Pressure3pm      10.33\n",
            "Cloud9am         38.42\n",
            "Cloud3pm         40.81\n",
            "Temp9am           1.21\n",
            "Temp3pm           2.48\n",
            "RainToday         2.24\n",
            "RainTomorrow      2.25\n",
            "dtype: float64 \n",
            "\n"
          ]
        }
      ]
    },
    {
      "cell_type": "markdown",
      "source": [
        "**Transforming the NumPy array into DataFrame.**"
      ],
      "metadata": {
        "id": "G_m32ru7tce0"
      }
    },
    {
      "cell_type": "code",
      "source": [
        "dataset = pd.DataFrame(dtst)\n",
        "dataset.rename(columns={0: 'Location', 1: 'MinTemp', 2: 'MaxTemp', 3: 'Rainfall', 4: 'Evaporation', 5: 'Sunshine', 6: 'WindGustDir', 7: 'WindGustSpeed', 8: 'WindDir9am', 9: 'WindDir3pm', 10: 'WindSpeed9am', 11: 'WindSpeed3pm', 12: 'Humidity9am', 13: 'Humidity3pm', 14: 'Pressure9am', 15: 'Pressure3pm', 16: 'Cloud9am', 17: 'Cloud3pm', 18: 'Temp9am' , 19: 'Temp3pm', 20: 'RainToday', 21: 'RainTomorrow'}, inplace=True)\n",
        "dataset_copy = dataset.copy()\n",
        "\n",
        "print(\"Percentage of NaN after handling Null values\\n\\n\",round(dataset.isna().mean() * 100, 2), \"\\n\")"
      ],
      "metadata": {
        "colab": {
          "base_uri": "https://localhost:8080/"
        },
        "id": "AKZBqhSCtXB3",
        "outputId": "0a2548c0-5bca-4374-a7e5-a0f7cb2d03d8"
      },
      "execution_count": null,
      "outputs": [
        {
          "output_type": "stream",
          "name": "stdout",
          "text": [
            "Percentage of NaN after handling Null values\n",
            "\n",
            " Location         0.0\n",
            "MinTemp          0.0\n",
            "MaxTemp          0.0\n",
            "Rainfall         0.0\n",
            "Evaporation      0.0\n",
            "Sunshine         0.0\n",
            "WindGustDir      0.0\n",
            "WindGustSpeed    0.0\n",
            "WindDir9am       0.0\n",
            "WindDir3pm       0.0\n",
            "WindSpeed9am     0.0\n",
            "WindSpeed3pm     0.0\n",
            "Humidity9am      0.0\n",
            "Humidity3pm      0.0\n",
            "Pressure9am      0.0\n",
            "Pressure3pm      0.0\n",
            "Cloud9am         0.0\n",
            "Cloud3pm         0.0\n",
            "Temp9am          0.0\n",
            "Temp3pm          0.0\n",
            "RainToday        0.0\n",
            "RainTomorrow     0.0\n",
            "dtype: float64 \n",
            "\n"
          ]
        }
      ]
    },
    {
      "cell_type": "markdown",
      "source": [
        "**Handling outliers using Winsorization**\n",
        "\n",
        "1. Winsorization is a technique of capping the values that do not lie between the specified percentile (Here they are 5% and 95%)."
      ],
      "metadata": {
        "id": "6V7H1TpiI9Mq"
      }
    },
    {
      "cell_type": "code",
      "source": [
        "def winsorize_feature(feature, lower_percentile=5, upper_percentile=95):\n",
        "    lower_bound = np.percentile(feature, lower_percentile)\n",
        "    upper_bound = np.percentile(feature, upper_percentile)\n",
        "\n",
        "    feature[feature < lower_bound] = lower_bound\n",
        "    feature[feature > upper_bound] = upper_bound\n",
        "\n",
        "    return feature\n",
        "\n",
        "for feature in numerical_features:\n",
        "    dataset[feature] = winsorize_feature(dataset[feature])"
      ],
      "metadata": {
        "id": "MQAQx6y8IbXH"
      },
      "execution_count": null,
      "outputs": []
    },
    {
      "cell_type": "markdown",
      "source": [
        "**Encoding the Categorical columns**\n",
        "\n",
        "1. Applying Label Encoding to 'RainToday' and 'RainTomorrow' since they have only 2 unique values (Yes and No).\n",
        "2. Applying One-Hot Encoding to other Categorical columns since they contain more than 2 unique values."
      ],
      "metadata": {
        "id": "U77Q3HC2tirv"
      }
    },
    {
      "cell_type": "code",
      "source": [
        "label_encoder = LabelEncoder()\n",
        "for i in categorical_features[4:]:\n",
        "  dataset[i] = label_encoder.fit_transform(dataset[i])\n",
        "dataset = pd.get_dummies(dataset, columns = categorical_features[0:4])\n",
        "\n",
        "dataset.head(5)"
      ],
      "metadata": {
        "colab": {
          "base_uri": "https://localhost:8080/",
          "height": 255
        },
        "id": "YZTInPf9tZfF",
        "outputId": "49b5f391-42fb-4cc3-8b84-b510163235b6"
      },
      "execution_count": null,
      "outputs": [
        {
          "output_type": "execute_result",
          "data": {
            "text/plain": [
              "  MinTemp MaxTemp Rainfall Evaporation  Sunshine WindGustSpeed WindSpeed9am  \\\n",
              "0    13.4    22.9      0.6    5.609501  7.718384          44.0         20.0   \n",
              "1     7.4    25.1      0.0    5.609501  7.718384          44.0          4.0   \n",
              "2    12.9    25.7      0.0    5.609501  7.718384          46.0         19.0   \n",
              "3     9.2    28.0      0.0    5.609501  7.718384          24.0         11.0   \n",
              "4    17.5    32.3      1.0    5.609501  7.718384          41.0          7.0   \n",
              "\n",
              "  WindSpeed3pm Humidity9am Humidity3pm  ... WindDir3pm_NNW WindDir3pm_NW  \\\n",
              "0         24.0        71.0        22.0  ...              0             0   \n",
              "1         22.0        44.0        25.0  ...              0             0   \n",
              "2         26.0        38.0        30.0  ...              0             0   \n",
              "3          9.0        45.0        16.0  ...              0             0   \n",
              "4         20.0        82.0        33.0  ...              0             1   \n",
              "\n",
              "  WindDir3pm_S WindDir3pm_SE WindDir3pm_SSE WindDir3pm_SSW  WindDir3pm_SW  \\\n",
              "0            0             0              0              0              0   \n",
              "1            0             0              0              0              0   \n",
              "2            0             0              0              0              0   \n",
              "3            0             0              0              0              0   \n",
              "4            0             0              0              0              0   \n",
              "\n",
              "   WindDir3pm_W  WindDir3pm_WNW  WindDir3pm_WSW  \n",
              "0             0               1               0  \n",
              "1             0               0               1  \n",
              "2             0               0               1  \n",
              "3             0               0               0  \n",
              "4             0               0               0  \n",
              "\n",
              "[5 rows x 113 columns]"
            ],
            "text/html": [
              "\n",
              "  <div id=\"df-297d94c3-396b-4fe2-b5b4-45b15718322a\" class=\"colab-df-container\">\n",
              "    <div>\n",
              "<style scoped>\n",
              "    .dataframe tbody tr th:only-of-type {\n",
              "        vertical-align: middle;\n",
              "    }\n",
              "\n",
              "    .dataframe tbody tr th {\n",
              "        vertical-align: top;\n",
              "    }\n",
              "\n",
              "    .dataframe thead th {\n",
              "        text-align: right;\n",
              "    }\n",
              "</style>\n",
              "<table border=\"1\" class=\"dataframe\">\n",
              "  <thead>\n",
              "    <tr style=\"text-align: right;\">\n",
              "      <th></th>\n",
              "      <th>MinTemp</th>\n",
              "      <th>MaxTemp</th>\n",
              "      <th>Rainfall</th>\n",
              "      <th>Evaporation</th>\n",
              "      <th>Sunshine</th>\n",
              "      <th>WindGustSpeed</th>\n",
              "      <th>WindSpeed9am</th>\n",
              "      <th>WindSpeed3pm</th>\n",
              "      <th>Humidity9am</th>\n",
              "      <th>Humidity3pm</th>\n",
              "      <th>...</th>\n",
              "      <th>WindDir3pm_NNW</th>\n",
              "      <th>WindDir3pm_NW</th>\n",
              "      <th>WindDir3pm_S</th>\n",
              "      <th>WindDir3pm_SE</th>\n",
              "      <th>WindDir3pm_SSE</th>\n",
              "      <th>WindDir3pm_SSW</th>\n",
              "      <th>WindDir3pm_SW</th>\n",
              "      <th>WindDir3pm_W</th>\n",
              "      <th>WindDir3pm_WNW</th>\n",
              "      <th>WindDir3pm_WSW</th>\n",
              "    </tr>\n",
              "  </thead>\n",
              "  <tbody>\n",
              "    <tr>\n",
              "      <th>0</th>\n",
              "      <td>13.4</td>\n",
              "      <td>22.9</td>\n",
              "      <td>0.6</td>\n",
              "      <td>5.609501</td>\n",
              "      <td>7.718384</td>\n",
              "      <td>44.0</td>\n",
              "      <td>20.0</td>\n",
              "      <td>24.0</td>\n",
              "      <td>71.0</td>\n",
              "      <td>22.0</td>\n",
              "      <td>...</td>\n",
              "      <td>0</td>\n",
              "      <td>0</td>\n",
              "      <td>0</td>\n",
              "      <td>0</td>\n",
              "      <td>0</td>\n",
              "      <td>0</td>\n",
              "      <td>0</td>\n",
              "      <td>0</td>\n",
              "      <td>1</td>\n",
              "      <td>0</td>\n",
              "    </tr>\n",
              "    <tr>\n",
              "      <th>1</th>\n",
              "      <td>7.4</td>\n",
              "      <td>25.1</td>\n",
              "      <td>0.0</td>\n",
              "      <td>5.609501</td>\n",
              "      <td>7.718384</td>\n",
              "      <td>44.0</td>\n",
              "      <td>4.0</td>\n",
              "      <td>22.0</td>\n",
              "      <td>44.0</td>\n",
              "      <td>25.0</td>\n",
              "      <td>...</td>\n",
              "      <td>0</td>\n",
              "      <td>0</td>\n",
              "      <td>0</td>\n",
              "      <td>0</td>\n",
              "      <td>0</td>\n",
              "      <td>0</td>\n",
              "      <td>0</td>\n",
              "      <td>0</td>\n",
              "      <td>0</td>\n",
              "      <td>1</td>\n",
              "    </tr>\n",
              "    <tr>\n",
              "      <th>2</th>\n",
              "      <td>12.9</td>\n",
              "      <td>25.7</td>\n",
              "      <td>0.0</td>\n",
              "      <td>5.609501</td>\n",
              "      <td>7.718384</td>\n",
              "      <td>46.0</td>\n",
              "      <td>19.0</td>\n",
              "      <td>26.0</td>\n",
              "      <td>38.0</td>\n",
              "      <td>30.0</td>\n",
              "      <td>...</td>\n",
              "      <td>0</td>\n",
              "      <td>0</td>\n",
              "      <td>0</td>\n",
              "      <td>0</td>\n",
              "      <td>0</td>\n",
              "      <td>0</td>\n",
              "      <td>0</td>\n",
              "      <td>0</td>\n",
              "      <td>0</td>\n",
              "      <td>1</td>\n",
              "    </tr>\n",
              "    <tr>\n",
              "      <th>3</th>\n",
              "      <td>9.2</td>\n",
              "      <td>28.0</td>\n",
              "      <td>0.0</td>\n",
              "      <td>5.609501</td>\n",
              "      <td>7.718384</td>\n",
              "      <td>24.0</td>\n",
              "      <td>11.0</td>\n",
              "      <td>9.0</td>\n",
              "      <td>45.0</td>\n",
              "      <td>16.0</td>\n",
              "      <td>...</td>\n",
              "      <td>0</td>\n",
              "      <td>0</td>\n",
              "      <td>0</td>\n",
              "      <td>0</td>\n",
              "      <td>0</td>\n",
              "      <td>0</td>\n",
              "      <td>0</td>\n",
              "      <td>0</td>\n",
              "      <td>0</td>\n",
              "      <td>0</td>\n",
              "    </tr>\n",
              "    <tr>\n",
              "      <th>4</th>\n",
              "      <td>17.5</td>\n",
              "      <td>32.3</td>\n",
              "      <td>1.0</td>\n",
              "      <td>5.609501</td>\n",
              "      <td>7.718384</td>\n",
              "      <td>41.0</td>\n",
              "      <td>7.0</td>\n",
              "      <td>20.0</td>\n",
              "      <td>82.0</td>\n",
              "      <td>33.0</td>\n",
              "      <td>...</td>\n",
              "      <td>0</td>\n",
              "      <td>1</td>\n",
              "      <td>0</td>\n",
              "      <td>0</td>\n",
              "      <td>0</td>\n",
              "      <td>0</td>\n",
              "      <td>0</td>\n",
              "      <td>0</td>\n",
              "      <td>0</td>\n",
              "      <td>0</td>\n",
              "    </tr>\n",
              "  </tbody>\n",
              "</table>\n",
              "<p>5 rows × 113 columns</p>\n",
              "</div>\n",
              "    <div class=\"colab-df-buttons\">\n",
              "\n",
              "  <div class=\"colab-df-container\">\n",
              "    <button class=\"colab-df-convert\" onclick=\"convertToInteractive('df-297d94c3-396b-4fe2-b5b4-45b15718322a')\"\n",
              "            title=\"Convert this dataframe to an interactive table.\"\n",
              "            style=\"display:none;\">\n",
              "\n",
              "  <svg xmlns=\"http://www.w3.org/2000/svg\" height=\"24px\" viewBox=\"0 -960 960 960\">\n",
              "    <path d=\"M120-120v-720h720v720H120Zm60-500h600v-160H180v160Zm220 220h160v-160H400v160Zm0 220h160v-160H400v160ZM180-400h160v-160H180v160Zm440 0h160v-160H620v160ZM180-180h160v-160H180v160Zm440 0h160v-160H620v160Z\"/>\n",
              "  </svg>\n",
              "    </button>\n",
              "\n",
              "  <style>\n",
              "    .colab-df-container {\n",
              "      display:flex;\n",
              "      gap: 12px;\n",
              "    }\n",
              "\n",
              "    .colab-df-convert {\n",
              "      background-color: #E8F0FE;\n",
              "      border: none;\n",
              "      border-radius: 50%;\n",
              "      cursor: pointer;\n",
              "      display: none;\n",
              "      fill: #1967D2;\n",
              "      height: 32px;\n",
              "      padding: 0 0 0 0;\n",
              "      width: 32px;\n",
              "    }\n",
              "\n",
              "    .colab-df-convert:hover {\n",
              "      background-color: #E2EBFA;\n",
              "      box-shadow: 0px 1px 2px rgba(60, 64, 67, 0.3), 0px 1px 3px 1px rgba(60, 64, 67, 0.15);\n",
              "      fill: #174EA6;\n",
              "    }\n",
              "\n",
              "    .colab-df-buttons div {\n",
              "      margin-bottom: 4px;\n",
              "    }\n",
              "\n",
              "    [theme=dark] .colab-df-convert {\n",
              "      background-color: #3B4455;\n",
              "      fill: #D2E3FC;\n",
              "    }\n",
              "\n",
              "    [theme=dark] .colab-df-convert:hover {\n",
              "      background-color: #434B5C;\n",
              "      box-shadow: 0px 1px 3px 1px rgba(0, 0, 0, 0.15);\n",
              "      filter: drop-shadow(0px 1px 2px rgba(0, 0, 0, 0.3));\n",
              "      fill: #FFFFFF;\n",
              "    }\n",
              "  </style>\n",
              "\n",
              "    <script>\n",
              "      const buttonEl =\n",
              "        document.querySelector('#df-297d94c3-396b-4fe2-b5b4-45b15718322a button.colab-df-convert');\n",
              "      buttonEl.style.display =\n",
              "        google.colab.kernel.accessAllowed ? 'block' : 'none';\n",
              "\n",
              "      async function convertToInteractive(key) {\n",
              "        const element = document.querySelector('#df-297d94c3-396b-4fe2-b5b4-45b15718322a');\n",
              "        const dataTable =\n",
              "          await google.colab.kernel.invokeFunction('convertToInteractive',\n",
              "                                                    [key], {});\n",
              "        if (!dataTable) return;\n",
              "\n",
              "        const docLinkHtml = 'Like what you see? Visit the ' +\n",
              "          '<a target=\"_blank\" href=https://colab.research.google.com/notebooks/data_table.ipynb>data table notebook</a>'\n",
              "          + ' to learn more about interactive tables.';\n",
              "        element.innerHTML = '';\n",
              "        dataTable['output_type'] = 'display_data';\n",
              "        await google.colab.output.renderOutput(dataTable, element);\n",
              "        const docLink = document.createElement('div');\n",
              "        docLink.innerHTML = docLinkHtml;\n",
              "        element.appendChild(docLink);\n",
              "      }\n",
              "    </script>\n",
              "  </div>\n",
              "\n",
              "\n",
              "<div id=\"df-e0efce7b-f5e7-43b0-8769-b563c0929726\">\n",
              "  <button class=\"colab-df-quickchart\" onclick=\"quickchart('df-e0efce7b-f5e7-43b0-8769-b563c0929726')\"\n",
              "            title=\"Suggest charts\"\n",
              "            style=\"display:none;\">\n",
              "\n",
              "<svg xmlns=\"http://www.w3.org/2000/svg\" height=\"24px\"viewBox=\"0 0 24 24\"\n",
              "     width=\"24px\">\n",
              "    <g>\n",
              "        <path d=\"M19 3H5c-1.1 0-2 .9-2 2v14c0 1.1.9 2 2 2h14c1.1 0 2-.9 2-2V5c0-1.1-.9-2-2-2zM9 17H7v-7h2v7zm4 0h-2V7h2v10zm4 0h-2v-4h2v4z\"/>\n",
              "    </g>\n",
              "</svg>\n",
              "  </button>\n",
              "\n",
              "<style>\n",
              "  .colab-df-quickchart {\n",
              "      --bg-color: #E8F0FE;\n",
              "      --fill-color: #1967D2;\n",
              "      --hover-bg-color: #E2EBFA;\n",
              "      --hover-fill-color: #174EA6;\n",
              "      --disabled-fill-color: #AAA;\n",
              "      --disabled-bg-color: #DDD;\n",
              "  }\n",
              "\n",
              "  [theme=dark] .colab-df-quickchart {\n",
              "      --bg-color: #3B4455;\n",
              "      --fill-color: #D2E3FC;\n",
              "      --hover-bg-color: #434B5C;\n",
              "      --hover-fill-color: #FFFFFF;\n",
              "      --disabled-bg-color: #3B4455;\n",
              "      --disabled-fill-color: #666;\n",
              "  }\n",
              "\n",
              "  .colab-df-quickchart {\n",
              "    background-color: var(--bg-color);\n",
              "    border: none;\n",
              "    border-radius: 50%;\n",
              "    cursor: pointer;\n",
              "    display: none;\n",
              "    fill: var(--fill-color);\n",
              "    height: 32px;\n",
              "    padding: 0;\n",
              "    width: 32px;\n",
              "  }\n",
              "\n",
              "  .colab-df-quickchart:hover {\n",
              "    background-color: var(--hover-bg-color);\n",
              "    box-shadow: 0 1px 2px rgba(60, 64, 67, 0.3), 0 1px 3px 1px rgba(60, 64, 67, 0.15);\n",
              "    fill: var(--button-hover-fill-color);\n",
              "  }\n",
              "\n",
              "  .colab-df-quickchart-complete:disabled,\n",
              "  .colab-df-quickchart-complete:disabled:hover {\n",
              "    background-color: var(--disabled-bg-color);\n",
              "    fill: var(--disabled-fill-color);\n",
              "    box-shadow: none;\n",
              "  }\n",
              "\n",
              "  .colab-df-spinner {\n",
              "    border: 2px solid var(--fill-color);\n",
              "    border-color: transparent;\n",
              "    border-bottom-color: var(--fill-color);\n",
              "    animation:\n",
              "      spin 1s steps(1) infinite;\n",
              "  }\n",
              "\n",
              "  @keyframes spin {\n",
              "    0% {\n",
              "      border-color: transparent;\n",
              "      border-bottom-color: var(--fill-color);\n",
              "      border-left-color: var(--fill-color);\n",
              "    }\n",
              "    20% {\n",
              "      border-color: transparent;\n",
              "      border-left-color: var(--fill-color);\n",
              "      border-top-color: var(--fill-color);\n",
              "    }\n",
              "    30% {\n",
              "      border-color: transparent;\n",
              "      border-left-color: var(--fill-color);\n",
              "      border-top-color: var(--fill-color);\n",
              "      border-right-color: var(--fill-color);\n",
              "    }\n",
              "    40% {\n",
              "      border-color: transparent;\n",
              "      border-right-color: var(--fill-color);\n",
              "      border-top-color: var(--fill-color);\n",
              "    }\n",
              "    60% {\n",
              "      border-color: transparent;\n",
              "      border-right-color: var(--fill-color);\n",
              "    }\n",
              "    80% {\n",
              "      border-color: transparent;\n",
              "      border-right-color: var(--fill-color);\n",
              "      border-bottom-color: var(--fill-color);\n",
              "    }\n",
              "    90% {\n",
              "      border-color: transparent;\n",
              "      border-bottom-color: var(--fill-color);\n",
              "    }\n",
              "  }\n",
              "</style>\n",
              "\n",
              "  <script>\n",
              "    async function quickchart(key) {\n",
              "      const quickchartButtonEl =\n",
              "        document.querySelector('#' + key + ' button');\n",
              "      quickchartButtonEl.disabled = true;  // To prevent multiple clicks.\n",
              "      quickchartButtonEl.classList.add('colab-df-spinner');\n",
              "      try {\n",
              "        const charts = await google.colab.kernel.invokeFunction(\n",
              "            'suggestCharts', [key], {});\n",
              "      } catch (error) {\n",
              "        console.error('Error during call to suggestCharts:', error);\n",
              "      }\n",
              "      quickchartButtonEl.classList.remove('colab-df-spinner');\n",
              "      quickchartButtonEl.classList.add('colab-df-quickchart-complete');\n",
              "    }\n",
              "    (() => {\n",
              "      let quickchartButtonEl =\n",
              "        document.querySelector('#df-e0efce7b-f5e7-43b0-8769-b563c0929726 button');\n",
              "      quickchartButtonEl.style.display =\n",
              "        google.colab.kernel.accessAllowed ? 'block' : 'none';\n",
              "    })();\n",
              "  </script>\n",
              "</div>\n",
              "\n",
              "    </div>\n",
              "  </div>\n"
            ],
            "application/vnd.google.colaboratory.intrinsic+json": {
              "type": "dataframe",
              "variable_name": "dataset"
            }
          },
          "metadata": {},
          "execution_count": 103
        }
      ]
    },
    {
      "cell_type": "markdown",
      "source": [
        "### **Train Test Split**"
      ],
      "metadata": {
        "id": "O-i-J9p1yQ5K"
      }
    },
    {
      "cell_type": "code",
      "source": [
        "X = dataset.drop(columns = ['RainTomorrow'])\n",
        "y = dataset['RainTomorrow']\n",
        "\n",
        "X_train, X_test, y_train, y_test = train_test_split(X, y, test_size = 0.25, random_state = 37)\n",
        "\n",
        "warnings.filterwarnings(\"ignore\", category=ConvergenceWarning)"
      ],
      "metadata": {
        "id": "jFv6Q78SoCRs"
      },
      "execution_count": null,
      "outputs": []
    },
    {
      "cell_type": "markdown",
      "source": [
        "### **Logistic Regression**"
      ],
      "metadata": {
        "id": "9kKpbR8jznXD"
      }
    },
    {
      "cell_type": "markdown",
      "source": [
        "**Fitting the model and predicting**"
      ],
      "metadata": {
        "id": "N3R-UxGJzt8X"
      }
    },
    {
      "cell_type": "code",
      "source": [
        "logistic_classifier = LogisticRegression(max_iter = 1500, solver = 'liblinear')\n",
        "logistic_classifier.fit(X_train, y_train)\n",
        "\n",
        "y_pred = logistic_classifier.predict(X_test)"
      ],
      "metadata": {
        "id": "Ga9m4rdEzjqR"
      },
      "execution_count": null,
      "outputs": []
    },
    {
      "cell_type": "markdown",
      "source": [
        "**Confusion Matrix and HeatMap**"
      ],
      "metadata": {
        "id": "4QVfEt-_0Irt"
      }
    },
    {
      "cell_type": "code",
      "source": [
        "cm = confusion_matrix(y_test, y_pred)\n",
        "print(\"Confusion Matrix\\n\\n\", cm, \"\\n\")\n",
        "\n",
        "plt.figure(figsize=(8, 6))\n",
        "sns.heatmap(cm, annot=True, cmap='Reds', fmt='g', cbar=False)\n",
        "plt.xlabel('Predicted (0 - No, 1 - Yes)')\n",
        "plt.ylabel('Actual (0 - No, 1 - Yes)')\n",
        "plt.title('HeatMap of Confusion Matrix')\n",
        "plt.show()"
      ],
      "metadata": {
        "colab": {
          "base_uri": "https://localhost:8080/",
          "height": 651
        },
        "id": "7FG4L1NJ0ANm",
        "outputId": "4b478845-1d56-4e0c-8a67-85a5bcbc7ad8"
      },
      "execution_count": null,
      "outputs": [
        {
          "output_type": "stream",
          "name": "stdout",
          "text": [
            "Confusion Matrix\n",
            "\n",
            " [[22666  1382]\n",
            " [ 3308  3572]] \n",
            "\n"
          ]
        },
        {
          "output_type": "display_data",
          "data": {
            "text/plain": [
              "<Figure size 800x600 with 1 Axes>"
            ],
            "image/png": "[encoded data removed]"
          },
          "metadata": {}
        }
      ]
    },
    {
      "cell_type": "markdown",
      "source": [
        "**Classification Report and Accuracy score**"
      ],
      "metadata": {
        "id": "_CH2nAeNLryj"
      }
    },
    {
      "cell_type": "code",
      "source": [
        "print(\"Classification Report:\")\n",
        "print(classification_report(y_test, y_pred))\n",
        "\n",
        "acc_score = accuracy_score(y_test, y_pred)\n",
        "print(\"Accuracy Score: \", round(acc_score*100, 2), \"%\")"
      ],
      "metadata": {
        "colab": {
          "base_uri": "https://localhost:8080/"
        },
        "id": "R6zY0ga42c6T",
        "outputId": "19550627-ebf7-49d9-cb6e-ccdf4cf8d34e"
      },
      "execution_count": null,
      "outputs": [
        {
          "output_type": "stream",
          "name": "stdout",
          "text": [
            "Classification Report:\n",
            "              precision    recall  f1-score   support\n",
            "\n",
            "           0       0.87      0.94      0.91     24048\n",
            "           1       0.72      0.52      0.60      6880\n",
            "\n",
            "    accuracy                           0.85     30928\n",
            "   macro avg       0.80      0.73      0.75     30928\n",
            "weighted avg       0.84      0.85      0.84     30928\n",
            "\n",
            "Accuracy Score:  84.84 %\n"
          ]
        }
      ]
    },
    {
      "cell_type": "markdown",
      "source": [
        "**ROC Curve and finding Optimal Threshold**"
      ],
      "metadata": {
        "id": "5_84R0VILzPe"
      }
    },
    {
      "cell_type": "code",
      "source": [
        "y_prob = logistic_classifier.predict_proba(X_test)[:, 1]\n",
        "\n",
        "fpr, tpr, thresholds = roc_curve(y_test.values, y_prob)\n",
        "\n",
        "plt.figure(figsize=(8, 6))\n",
        "plt.plot(fpr, tpr, label='ROC Curve')\n",
        "plt.plot([0, 1], [0, 1], 'k--')\n",
        "plt.xlabel('False Positive Rate (FPR)')\n",
        "plt.ylabel('True Positive Rate (TPR)')\n",
        "plt.title('ROC Curve for Logistic Regression')\n",
        "\n",
        "roc_auc = roc_auc_score(y_test, y_prob)\n",
        "optimal_threshold_index = np.argmax(tpr - fpr)\n",
        "optimal_threshold = thresholds[optimal_threshold_index]\n",
        "\n",
        "plt.scatter(fpr[optimal_threshold_index], tpr[optimal_threshold_index], marker='o', color='red', label=f'Optimal Threshold ({optimal_threshold:.2f})')\n",
        "\n",
        "plt.legend()\n",
        "plt.show()\n",
        "\n",
        "print(\"ROC-AUC Score: \", round(roc_auc*100, 2))\n",
        "print(\"Optimal Threshold: \", round(optimal_threshold, 2))\n",
        "\n",
        "y_pred_adjusted = (y_prob >= optimal_threshold).astype(int)"
      ],
      "metadata": {
        "colab": {
          "base_uri": "https://localhost:8080/",
          "height": 599
        },
        "id": "5D31tMSmd0-K",
        "outputId": "969b9602-9bdd-4ad7-b2ba-74964f3cfefc"
      },
      "execution_count": null,
      "outputs": [
        {
          "output_type": "display_data",
          "data": {
            "text/plain": [
              "<Figure size 800x600 with 1 Axes>"
            ],
            "image/png": "[encoded data removed]"
          },
          "metadata": {}
        },
        {
          "output_type": "stream",
          "name": "stdout",
          "text": [
            "ROC-AUC Score:  87.12\n",
            "Optimal Threshold:  0.25\n"
          ]
        }
      ]
    },
    {
      "cell_type": "markdown",
      "source": [
        "**Accuracy Score after adjusting threshold**"
      ],
      "metadata": {
        "id": "Mltulq1P6HKC"
      }
    },
    {
      "cell_type": "code",
      "source": [
        "acc_score = accuracy_score(y_test, y_pred_adjusted)\n",
        "print(\"Accuracy Score: \", round(acc_score*100, 2), \"%\")"
      ],
      "metadata": {
        "colab": {
          "base_uri": "https://localhost:8080/"
        },
        "id": "FCcsx85J6NiZ",
        "outputId": "85b80be0-ea4c-44e6-f487-028d8e8fe408"
      },
      "execution_count": null,
      "outputs": [
        {
          "output_type": "stream",
          "name": "stdout",
          "text": [
            "Accuracy Score:  81.0 %\n"
          ]
        }
      ]
    },
    {
      "cell_type": "markdown",
      "source": [
        "**Inference after adjusting the threshold**\n",
        "\n",
        "1. Adjusting the threshold changes the balance between true positives and true negatives.\n",
        "2. This causes a reduction in accuracy score."
      ],
      "metadata": {
        "id": "V3QKZSnMMvku"
      }
    },
    {
      "cell_type": "markdown",
      "source": [
        "**Cross Validation with k-folds**\n",
        "\n",
        "1. Testing with k = 3."
      ],
      "metadata": {
        "id": "Pd1pPDao_fiJ"
      }
    },
    {
      "cell_type": "code",
      "source": [
        "k = 3\n",
        "\n",
        "cv_scores = cross_val_score(logistic_classifier, X, y, cv=k)\n",
        "\n",
        "mean_cv_score = np.mean(cv_scores)\n",
        "std_cv_score = np.std(cv_scores)\n",
        "\n",
        "print(\"Cross-Validation Scores:\", cv_scores)\n",
        "print(\"Mean CV Score:\", mean_cv_score)\n",
        "print(\"Standard Deviation of CV Scores:\", std_cv_score)"
      ],
      "metadata": {
        "colab": {
          "base_uri": "https://localhost:8080/"
        },
        "id": "X2SS4U4FiFKx",
        "outputId": "5b44b2d0-d8c1-4709-c510-d8977999360c"
      },
      "execution_count": null,
      "outputs": [
        {
          "output_type": "stream",
          "name": "stdout",
          "text": [
            "Cross-Validation Scores: [0.82537527 0.79617819 0.84368028]\n",
            "Mean CV Score: 0.8217445795465186\n",
            "Standard Deviation of CV Scores: 0.019561843290319264\n"
          ]
        }
      ]
    },
    {
      "cell_type": "markdown",
      "source": [
        "**Inference after k-fold analysis**\n",
        "\n",
        "1. 3-fold analysis produces scores that are close to the initial model accuracy, but does not produce scores greater than the initial score."
      ],
      "metadata": {
        "id": "F6NwExdANPvC"
      }
    },
    {
      "cell_type": "markdown",
      "source": [
        "**Test for overfit or underfit**"
      ],
      "metadata": {
        "id": "AHLseXvjBFRg"
      }
    },
    {
      "cell_type": "code",
      "source": [
        "print(f\"Training set score: {logistic_classifier.score(X_train, y_train):0.4f}\")\n",
        "print(f\"Testing set score: {logistic_classifier.score(X_test,y_test):.4f}\")"
      ],
      "metadata": {
        "colab": {
          "base_uri": "https://localhost:8080/"
        },
        "id": "xt0Ax9FYBJtW",
        "outputId": "393005c2-6ef9-4889-9ea7-8d01218646de"
      },
      "execution_count": null,
      "outputs": [
        {
          "output_type": "stream",
          "name": "stdout",
          "text": [
            "Training set score: 0.8538\n",
            "Testing set score: 0.8484\n"
          ]
        }
      ]
    },
    {
      "cell_type": "markdown",
      "source": [
        "1. Since training set score is larger than testing set score, it causes over-fitting.\n",
        "2. Since it is just a small difference in accuracy, It does not contribute to significant amount of over-fitting."
      ],
      "metadata": {
        "id": "NzTRFaldCU24"
      }
    },
    {
      "cell_type": "markdown",
      "source": [
        "**Optimizing Regularization parameter**"
      ],
      "metadata": {
        "id": "ty39hqJEFMzO"
      }
    },
    {
      "cell_type": "code",
      "source": [
        "param_grid = {'C': [0.001, 0.01, 0.1, 1, 10, 100]}\n",
        "\n",
        "grid_search = GridSearchCV(logistic_classifier, param_grid, cv=3)\n",
        "\n",
        "grid_search.fit(X_train, y_train)\n",
        "\n",
        "best_params = grid_search.best_params_\n",
        "print(\"Best Regularization Hyperparameter:\", best_params)\n",
        "\n",
        "best_model = grid_search.best_estimator_\n",
        "best_model_performance = best_model.score(X_test, y_test)\n",
        "print(\"Model Performance with Best Hyperparameter:\", round(best_model_performance*100, 2), \"%\")"
      ],
      "metadata": {
        "colab": {
          "base_uri": "https://localhost:8080/"
        },
        "id": "6vseF10vlUrJ",
        "outputId": "71b30967-5f21-4f9d-92eb-5463144b46a3"
      },
      "execution_count": null,
      "outputs": [
        {
          "output_type": "stream",
          "name": "stdout",
          "text": [
            "Best Regularization Hyperparameter: {'C': 1}\n",
            "Model Performance with Best Hyperparameter: 84.84 %\n"
          ]
        }
      ]
    },
    {
      "cell_type": "markdown",
      "source": [
        "**Inference for tuning Regularization parameter**\n",
        "\n",
        "1. Optimal Regularization parameter is chosen and the accuracy score is increased by around 0.1%."
      ],
      "metadata": {
        "id": "l0f_YCBTNwlO"
      }
    },
    {
      "cell_type": "markdown",
      "source": [
        "### **Logistic Regression with Balanced Dataset**"
      ],
      "metadata": {
        "id": "3T6gUZsJ9kw6"
      }
    },
    {
      "cell_type": "markdown",
      "source": [
        "**Train Test Split with Balancing using OverSampler**\n",
        "\n",
        "1. The RandomOverSampler is a technique used in handling imbalanced datasets, specifically in the context of classification problems where one class is significantly underrepresented compared to the others.\n",
        "2. It addresses this issue by randomly duplicating samples from the minority class until the class distribution is balanced."
      ],
      "metadata": {
        "id": "kg2CUZim9rQY"
      }
    },
    {
      "cell_type": "code",
      "source": [
        "X_b = dataset.drop(columns = ['RainTomorrow'])\n",
        "y_b = dataset['RainTomorrow']\n",
        "\n",
        "ros = RandomOverSampler()\n",
        "X_b, y_b = ros.fit_resample(X_b, y_b)\n",
        "\n",
        "X_train_b, X_test_b, y_train_b, y_test_b = train_test_split(X_b, y_b, test_size = 0.25, random_state = 37)"
      ],
      "metadata": {
        "id": "xVXr9mSL9zK0"
      },
      "execution_count": null,
      "outputs": []
    },
    {
      "cell_type": "markdown",
      "source": [
        "**Fitting the model**"
      ],
      "metadata": {
        "id": "C3LqIR7N-LvL"
      }
    },
    {
      "cell_type": "code",
      "source": [
        "logistic_classifier_b = LogisticRegression(max_iter = 1500, solver = 'liblinear')\n",
        "logistic_classifier_b.fit(X_train_b, y_train_b)\n",
        "\n",
        "y_pred_b = logistic_classifier_b.predict(X_test_b)"
      ],
      "metadata": {
        "id": "ky3OnhAW-Si1"
      },
      "execution_count": null,
      "outputs": []
    },
    {
      "cell_type": "markdown",
      "source": [
        "**Confusion Matrix**"
      ],
      "metadata": {
        "id": "UWrQPcOz-TVp"
      }
    },
    {
      "cell_type": "code",
      "source": [
        "cm = confusion_matrix(y_test_b, y_pred_b)\n",
        "print(\"Confusion Matrix\\n\\n\", cm, \"\\n\")\n",
        "\n",
        "plt.figure(figsize=(8, 6))\n",
        "sns.heatmap(cm, annot=True, cmap='Reds', fmt='g', cbar=False)\n",
        "plt.xlabel('Predicted (0 - No, 1 - Yes)')\n",
        "plt.ylabel('Actual (0 - No, 1 - Yes)')\n",
        "plt.title('HeatMap of Confusion Matrix')\n",
        "plt.show()"
      ],
      "metadata": {
        "colab": {
          "base_uri": "https://localhost:8080/",
          "height": 651
        },
        "id": "libMg3M6-aBZ",
        "outputId": "f10d723e-08a6-49e5-ece5-af667403c2ed"
      },
      "execution_count": null,
      "outputs": [
        {
          "output_type": "stream",
          "name": "stdout",
          "text": [
            "Confusion Matrix\n",
            "\n",
            " [[19377  4785]\n",
            " [ 5083 18914]] \n",
            "\n"
          ]
        },
        {
          "output_type": "display_data",
          "data": {
            "text/plain": [
              "<Figure size 800x600 with 1 Axes>"
            ],
            "image/png": "[encoded data removed]"
          },
          "metadata": {}
        }
      ]
    },
    {
      "cell_type": "markdown",
      "source": [
        "**Accuracy Score**"
      ],
      "metadata": {
        "id": "OWWBoaz8-i-n"
      }
    },
    {
      "cell_type": "code",
      "source": [
        "acc_score = accuracy_score(y_test_b, y_pred_b)\n",
        "print(\"Accuracy Score: \", round(acc_score*100, 2), \"%\")"
      ],
      "metadata": {
        "colab": {
          "base_uri": "https://localhost:8080/"
        },
        "id": "CFUSoo-S-nNk",
        "outputId": "8207f111-0560-4194-dfae-f29066981933"
      },
      "execution_count": null,
      "outputs": [
        {
          "output_type": "stream",
          "name": "stdout",
          "text": [
            "Accuracy Score:  79.51 %\n"
          ]
        }
      ]
    },
    {
      "cell_type": "markdown",
      "source": [
        "**Adjusting based on Optimal Threshold**"
      ],
      "metadata": {
        "id": "pB7XXlGa-0DU"
      }
    },
    {
      "cell_type": "code",
      "source": [
        "y_prob_b = logistic_classifier_b.predict_proba(X_test_b)[:, 1]\n",
        "\n",
        "fpr, tpr, thresholds = roc_curve(y_test_b.values, y_prob_b)\n",
        "\n",
        "roc_auc = roc_auc_score(y_test_b, y_prob_b)\n",
        "optimal_threshold_index = np.argmax(tpr - fpr)\n",
        "optimal_threshold = thresholds[optimal_threshold_index]\n",
        "\n",
        "print(\"ROC-AUC Score: \", round(roc_auc*100, 2))\n",
        "print(\"Optimal Threshold: \", round(optimal_threshold, 2))\n",
        "\n",
        "y_pred_adjusted_b = (y_prob_b >= optimal_threshold).astype(int)"
      ],
      "metadata": {
        "colab": {
          "base_uri": "https://localhost:8080/"
        },
        "id": "Wz84FDz8-4cd",
        "outputId": "3dbe7cf0-3493-4e22-87f5-b186268b157b"
      },
      "execution_count": null,
      "outputs": [
        {
          "output_type": "stream",
          "name": "stdout",
          "text": [
            "ROC-AUC Score:  87.75\n",
            "Optimal Threshold:  0.49\n"
          ]
        }
      ]
    },
    {
      "cell_type": "markdown",
      "source": [
        "**Accuracy after adjusting with threshold**"
      ],
      "metadata": {
        "id": "5pvU4Vc7-_B2"
      }
    },
    {
      "cell_type": "code",
      "source": [
        "acc_score = accuracy_score(y_test_b, y_pred_adjusted_b)\n",
        "print(\"Accuracy Score: \", round(acc_score*100, 2), \"%\")"
      ],
      "metadata": {
        "colab": {
          "base_uri": "https://localhost:8080/"
        },
        "id": "FDVfhw_s_FEL",
        "outputId": "9a2ad7ff-21b0-4b7d-fe73-1e7a9da58ab8"
      },
      "execution_count": null,
      "outputs": [
        {
          "output_type": "stream",
          "name": "stdout",
          "text": [
            "Accuracy Score:  79.54 %\n"
          ]
        }
      ]
    },
    {
      "cell_type": "markdown",
      "source": [
        "**Inference on adjusting threshold**\n",
        "\n",
        "1. Accuracy score is increased in this case unlike the previous case where the dataset is imbalanced.\n",
        "2. Since, the dataset is already balanced here Accuracy increases."
      ],
      "metadata": {
        "id": "FaMt3EuOOoVh"
      }
    },
    {
      "cell_type": "markdown",
      "source": [
        "### **Gaussian Naive Bayes Classification**"
      ],
      "metadata": {
        "id": "s6Umv5DGGFQe"
      }
    },
    {
      "cell_type": "markdown",
      "source": [
        "**Fitting and predicting using Gaussian Naive Bayes**"
      ],
      "metadata": {
        "id": "qJJVV3CGGQ8T"
      }
    },
    {
      "cell_type": "code",
      "source": [
        "gnb = GaussianNB()\n",
        "gnb.fit(X_train,y_train)\n",
        "\n",
        "y_pred = gnb.predict(X_test)"
      ],
      "metadata": {
        "id": "ZfbPmxBO9OeI"
      },
      "execution_count": null,
      "outputs": []
    },
    {
      "cell_type": "markdown",
      "source": [
        "**Confusion Matrix**"
      ],
      "metadata": {
        "id": "gONdvxP-PGv4"
      }
    },
    {
      "cell_type": "code",
      "source": [
        "cm = confusion_matrix(y_test, y_pred)\n",
        "print(\"Confusion Matrix\\n\\n\", cm, \"\\n\")\n",
        "\n",
        "plt.figure(figsize=(8, 6))\n",
        "sns.heatmap(cm, annot=True, cmap='Reds', fmt='g', cbar=False)\n",
        "plt.xlabel('Predicted (0 - No, 1 - Yes)')\n",
        "plt.ylabel('Actual (0 - No, 1 - Yes)')\n",
        "plt.title('Confusion Matrix')\n",
        "plt.show()"
      ],
      "metadata": {
        "colab": {
          "base_uri": "https://localhost:8080/",
          "height": 651
        },
        "id": "zKIWo7twGb5c",
        "outputId": "16891a99-9057-4146-df70-97c5a7ade048"
      },
      "execution_count": null,
      "outputs": [
        {
          "output_type": "stream",
          "name": "stdout",
          "text": [
            "Confusion Matrix\n",
            "\n",
            " [[15074  8974]\n",
            " [ 1897  4983]] \n",
            "\n"
          ]
        },
        {
          "output_type": "display_data",
          "data": {
            "text/plain": [
              "<Figure size 800x600 with 1 Axes>"
            ],
            "image/png": "[encoded data removed]"
          },
          "metadata": {}
        }
      ]
    },
    {
      "cell_type": "markdown",
      "source": [
        "**Classification report and Accuracy score**"
      ],
      "metadata": {
        "id": "bGOmXN-hPLqr"
      }
    },
    {
      "cell_type": "code",
      "source": [
        "print(\"Classification Report:\")\n",
        "print(classification_report(y_test, y_pred))\n",
        "acc_score = accuracy_score(y_test, y_pred)\n",
        "print(\"Accuracy Score: \", round(acc_score*100, 2), \"%\")"
      ],
      "metadata": {
        "colab": {
          "base_uri": "https://localhost:8080/"
        },
        "id": "R2PaiBH1HFwp",
        "outputId": "12722bc8-47dd-4617-aef7-c57aa32a1839"
      },
      "execution_count": null,
      "outputs": [
        {
          "output_type": "stream",
          "name": "stdout",
          "text": [
            "Classification Report:\n",
            "              precision    recall  f1-score   support\n",
            "\n",
            "           0       0.89      0.63      0.73     24048\n",
            "           1       0.36      0.72      0.48      6880\n",
            "\n",
            "    accuracy                           0.65     30928\n",
            "   macro avg       0.62      0.68      0.61     30928\n",
            "weighted avg       0.77      0.65      0.68     30928\n",
            "\n",
            "Accuracy Score:  64.85 %\n"
          ]
        }
      ]
    },
    {
      "cell_type": "markdown",
      "source": [
        "**ROC Curve and optimal threshold**"
      ],
      "metadata": {
        "id": "IQ2noUL5PSb6"
      }
    },
    {
      "cell_type": "code",
      "source": [
        "y_prob = gnb.predict_proba(X_test)[:, 1]\n",
        "\n",
        "fpr, tpr, thresholds = roc_curve(y_test.values, y_prob)\n",
        "\n",
        "plt.figure(figsize=(8, 6))\n",
        "plt.plot(fpr, tpr, label='ROC Curve')\n",
        "plt.plot([0, 1], [0, 1], 'k--')\n",
        "plt.xlabel('False Positive Rate (FPR)')\n",
        "plt.ylabel('True Positive Rate (TPR)')\n",
        "plt.title('ROC Curve for Logistic Regression')\n",
        "\n",
        "roc_auc = roc_auc_score(y_test, y_prob)\n",
        "optimal_threshold_index = np.argmax(tpr - fpr)\n",
        "optimal_threshold = thresholds[optimal_threshold_index]\n",
        "\n",
        "plt.scatter(fpr[optimal_threshold_index], tpr[optimal_threshold_index], marker='o', color='red', label=f'Optimal Threshold ({optimal_threshold:.2f})')\n",
        "\n",
        "plt.legend()\n",
        "plt.show()\n",
        "\n",
        "print(\"ROC-AUC Score: \", round(roc_auc*100, 2))\n",
        "print(\"Optimal Threshold: \", round(optimal_threshold, 2))\n",
        "\n",
        "y_pred_adjusted = (y_prob >= optimal_threshold).astype(int)"
      ],
      "metadata": {
        "colab": {
          "base_uri": "https://localhost:8080/",
          "height": 599
        },
        "id": "MKmgOGHFhnyu",
        "outputId": "2635afe0-25f0-458c-99a5-e3c813b96664"
      },
      "execution_count": null,
      "outputs": [
        {
          "output_type": "display_data",
          "data": {
            "text/plain": [
              "<Figure size 800x600 with 1 Axes>"
            ],
            "image/png": "[encoded data removed]"
          },
          "metadata": {}
        },
        {
          "output_type": "stream",
          "name": "stdout",
          "text": [
            "ROC-AUC Score:  74.32\n",
            "Optimal Threshold:  0.97\n"
          ]
        }
      ]
    },
    {
      "cell_type": "markdown",
      "source": [
        "**Accuracy Score after adjusting threshold**"
      ],
      "metadata": {
        "id": "tgMgelr0H31z"
      }
    },
    {
      "cell_type": "code",
      "source": [
        "acc_score = accuracy_score(y_test, y_pred_adjusted)\n",
        "print(\"Accuracy Score: \", round(acc_score*100, 2), \"%\")"
      ],
      "metadata": {
        "colab": {
          "base_uri": "https://localhost:8080/"
        },
        "id": "hkT0TGBvH2BZ",
        "outputId": "af58b1d2-78b7-436f-9632-d838fd34eddb"
      },
      "execution_count": null,
      "outputs": [
        {
          "output_type": "stream",
          "name": "stdout",
          "text": [
            "Accuracy Score:  70.57 %\n"
          ]
        }
      ]
    },
    {
      "cell_type": "markdown",
      "source": [
        "**Inference on adjusted threshold score**\n",
        "\n",
        "1. Gaussian Naive Bayes classifier bias is leaned towards the majority class.\n",
        "2. The accuracy score increases due to the balancing of both the classes by the threshold and bias is leaning less towards majority class."
      ],
      "metadata": {
        "id": "u57lrhvMP7Ig"
      }
    },
    {
      "cell_type": "markdown",
      "source": [
        "**Cross-Validation with k-folds**\n",
        "\n",
        "1. Optimising with k = 3."
      ],
      "metadata": {
        "id": "MjSo_QLGIYkj"
      }
    },
    {
      "cell_type": "code",
      "source": [
        "k = 3\n",
        "\n",
        "cv_scores = cross_val_score(gnb, X, y, cv=k)\n",
        "\n",
        "mean_cv_score = np.mean(cv_scores)\n",
        "std_cv_score = np.std(cv_scores)\n",
        "\n",
        "print(\"Cross-Validation Scores:\", cv_scores)\n",
        "print(\"Mean CV Score:\", mean_cv_score)\n",
        "print(\"Standard Deviation of CV Scores:\", std_cv_score)"
      ],
      "metadata": {
        "colab": {
          "base_uri": "https://localhost:8080/"
        },
        "id": "mwRHbHwli8LA",
        "outputId": "fde6b02a-36ea-4f6b-a98d-bbe8101ce71f"
      },
      "execution_count": null,
      "outputs": [
        {
          "output_type": "stream",
          "name": "stdout",
          "text": [
            "Cross-Validation Scores: [0.59196838 0.68664064 0.56773208]\n",
            "Mean CV Score: 0.6154470316469737\n",
            "Standard Deviation of CV Scores: 0.05130462465314318\n"
          ]
        }
      ]
    },
    {
      "cell_type": "markdown",
      "source": [
        "**Inference after k-fold analysis**\n",
        "\n",
        "1. 3-fold analysis produces scores that are close to the initial model accuracy, and one of the scores is higher than initial accuracy (at 2-fold). Hence, k-fold cross validation increases the accuracy."
      ],
      "metadata": {
        "id": "1JK3WVI7Q4K1"
      }
    },
    {
      "cell_type": "markdown",
      "source": [
        "**Test for overfit or underfit**"
      ],
      "metadata": {
        "id": "CnGyc8K8DIwq"
      }
    },
    {
      "cell_type": "code",
      "source": [
        "print(f\"Training set score: {gnb.score(X_train, y_train):0.4f}\")\n",
        "print(f\"Testing set score: {gnb.score(X_test,y_test):.4f}\")"
      ],
      "metadata": {
        "colab": {
          "base_uri": "https://localhost:8080/"
        },
        "outputId": "302aa5db-d067-4068-aa9f-88b5a6e61185",
        "id": "5OjmvmpeDLL_"
      },
      "execution_count": null,
      "outputs": [
        {
          "output_type": "stream",
          "name": "stdout",
          "text": [
            "Training set score: 0.6530\n",
            "Testing set score: 0.6485\n"
          ]
        }
      ]
    },
    {
      "cell_type": "markdown",
      "source": [
        "1. Since training set score is larger than testing set score, it causes over-fitting.\n",
        "2. Since it is just a small difference in accuracy, It does not contribute to significant amount of over-fitting."
      ],
      "metadata": {
        "id": "vSWUuTTXDM7w"
      }
    },
    {
      "cell_type": "markdown",
      "source": [
        "### **Gaussian Naive Bayes Classification with Balanced Dataset**"
      ],
      "metadata": {
        "id": "duT-DEySJKWc"
      }
    },
    {
      "cell_type": "markdown",
      "source": [
        "**Train Test Split with Balancing using OverSampler**"
      ],
      "metadata": {
        "id": "NVZHq_FaJKWd"
      }
    },
    {
      "cell_type": "code",
      "source": [
        "X_b = dataset.drop(columns = ['RainTomorrow'])\n",
        "y_b = dataset['RainTomorrow']\n",
        "\n",
        "ros = RandomOverSampler()\n",
        "X_b, y_b = ros.fit_resample(X_b, y_b)\n",
        "\n",
        "X_train_b, X_test_b, y_train_b, y_test_b = train_test_split(X_b, y_b, test_size = 0.20, random_state = 0)"
      ],
      "metadata": {
        "id": "aI0i5Br6JKWd"
      },
      "execution_count": null,
      "outputs": []
    },
    {
      "cell_type": "markdown",
      "source": [
        "**Fitting the model**"
      ],
      "metadata": {
        "id": "vtPgTpCIJKWd"
      }
    },
    {
      "cell_type": "code",
      "source": [
        "gnb_b = GaussianNB()\n",
        "gnb_b.fit(X_train_b, y_train_b)\n",
        "\n",
        "y_pred_b = gnb_b.predict(X_test_b)"
      ],
      "metadata": {
        "id": "YpIJQQusJKWd"
      },
      "execution_count": null,
      "outputs": []
    },
    {
      "cell_type": "markdown",
      "source": [
        "**Confusion Matrix**"
      ],
      "metadata": {
        "id": "6XXb2MIhJKWd"
      }
    },
    {
      "cell_type": "code",
      "source": [
        "cm = confusion_matrix(y_test_b, y_pred_b)\n",
        "print(\"Confusion Matrix\\n\\n\", cm, \"\\n\")\n",
        "\n",
        "plt.figure(figsize=(8, 6))\n",
        "sns.heatmap(cm, annot=True, cmap='Reds', fmt='g', cbar=False)\n",
        "plt.xlabel('Predicted (0 - No, 1 - Yes)')\n",
        "plt.ylabel('Actual (0 - No, 1 - Yes)')\n",
        "plt.title('HeatMap of Confusion Matrix')\n",
        "plt.show()"
      ],
      "metadata": {
        "colab": {
          "base_uri": "https://localhost:8080/",
          "height": 651
        },
        "outputId": "74b81b8d-f1e0-4fd6-ed6a-78ceba79e1a8",
        "id": "dE7shpHTJKWe"
      },
      "execution_count": null,
      "outputs": [
        {
          "output_type": "stream",
          "name": "stdout",
          "text": [
            "Confusion Matrix\n",
            "\n",
            " [[11372  7843]\n",
            " [ 4740 14573]] \n",
            "\n"
          ]
        },
        {
          "output_type": "display_data",
          "data": {
            "text/plain": [
              "<Figure size 800x600 with 1 Axes>"
            ],
            "image/png": "[encoded data removed]"
          },
          "metadata": {}
        }
      ]
    },
    {
      "cell_type": "markdown",
      "source": [
        "**Accuracy Score**"
      ],
      "metadata": {
        "id": "4XmDZt00JKWe"
      }
    },
    {
      "cell_type": "code",
      "source": [
        "acc_score = accuracy_score(y_test_b, y_pred_b)\n",
        "print(\"Accuracy Score: \", round(acc_score*100, 2), \"%\")"
      ],
      "metadata": {
        "colab": {
          "base_uri": "https://localhost:8080/"
        },
        "outputId": "bf68d93a-2ec9-4aa1-c680-8ca033d527a2",
        "id": "G5QoxTLqJKWe"
      },
      "execution_count": null,
      "outputs": [
        {
          "output_type": "stream",
          "name": "stdout",
          "text": [
            "Accuracy Score:  67.34 %\n"
          ]
        }
      ]
    },
    {
      "cell_type": "markdown",
      "source": [
        "**Adjusting based on Optimal Threshold**"
      ],
      "metadata": {
        "id": "9v9pvDo9JKWe"
      }
    },
    {
      "cell_type": "code",
      "source": [
        "y_prob_b = gnb_b.predict_proba(X_test_b)[:, 1]\n",
        "\n",
        "fpr, tpr, thresholds = roc_curve(y_test_b.values, y_prob_b)\n",
        "\n",
        "roc_auc = roc_auc_score(y_test_b, y_prob_b)\n",
        "optimal_threshold_index = np.argmax(tpr - fpr)\n",
        "optimal_threshold = thresholds[optimal_threshold_index]\n",
        "\n",
        "print(\"ROC-AUC Score: \", round(roc_auc*100, 2))\n",
        "print(\"Optimal Threshold: \", round(optimal_threshold, 2))\n",
        "\n",
        "y_pred_adjusted_b = (y_prob_b >= optimal_threshold).astype(int)"
      ],
      "metadata": {
        "colab": {
          "base_uri": "https://localhost:8080/"
        },
        "outputId": "6015a51a-ea10-45f6-e19d-87697209b7ae",
        "id": "XkxlgwY8JKWe"
      },
      "execution_count": null,
      "outputs": [
        {
          "output_type": "stream",
          "name": "stdout",
          "text": [
            "ROC-AUC Score:  75.0\n",
            "Optimal Threshold:  0.99\n"
          ]
        }
      ]
    },
    {
      "cell_type": "markdown",
      "source": [
        "**Accuracy after adjusting with threshold**"
      ],
      "metadata": {
        "id": "vcIatROVJKWe"
      }
    },
    {
      "cell_type": "code",
      "source": [
        "acc_score = accuracy_score(y_test_b, y_pred_adjusted_b)\n",
        "print(\"Accuracy Score: \", round(acc_score*100, 2), \"%\")"
      ],
      "metadata": {
        "colab": {
          "base_uri": "https://localhost:8080/"
        },
        "outputId": "b1c3709f-4cb2-48fd-b2b1-ccf3b8028bd4",
        "id": "fZxD2f-SJKWe"
      },
      "execution_count": null,
      "outputs": [
        {
          "output_type": "stream",
          "name": "stdout",
          "text": [
            "Accuracy Score:  68.67 %\n"
          ]
        }
      ]
    },
    {
      "cell_type": "markdown",
      "source": [
        "**Inference on accuracy after threshold adjustment**\n",
        "\n",
        "1. The accuracy increases due to the same bias being leaned towards majority class.\n",
        "2. It does not produce a significant change because the dataset is almost well-balanced."
      ],
      "metadata": {
        "id": "OeezuetvRPYc"
      }
    }
  ]
}